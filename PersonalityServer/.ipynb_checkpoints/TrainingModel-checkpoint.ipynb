{
 "cells": [
  {
   "cell_type": "code",
   "execution_count": 52,
   "metadata": {},
   "outputs": [
    {
     "name": "stdout",
     "output_type": "stream",
     "text": [
      "Accuracy: 0.6875\n"
     ]
    }
   ],
   "source": [
    "#taining model\n",
    "import pandas as pd\n",
    "from sklearn.tree import DecisionTreeClassifier\n",
    "from sklearn.model_selection import train_test_split\n",
    "from sklearn import metrics\n",
    "from sklearn.externals import joblib\n",
    "\n",
    "col_names = ['category1' , 'category2' , 'category3' , 'category4' , 'result']\n",
    "personality_data = pd.read_csv('dataset.csv' , names = col_names)\n",
    "\n",
    "input_columns = ['category1', 'category2' , 'category3' , 'category4']\n",
    "X = personality_data[input_columns]\n",
    "y = personality_data['result']\n",
    "\n",
    "X_train , X_test , y_train , y_test = train_test_split(X , y , test_size = 0.1)\n",
    "\n",
    "clasifier = DecisionTreeClassifier()\n",
    "clasifier = clasifier.fit(X_train , y_train)\n",
    "\n",
    "joblib.dump(clasifier , 'trained_model.joblib')\n",
    "\n",
    "#y_pred = clasifier.predict(X_test)\n",
    "#print(\"Accuracy:\" , metrics.accuracy_score(y_test , y_pred))"
   ]
  },
  {
   "cell_type": "code",
   "execution_count": null,
   "metadata": {},
   "outputs": [],
   "source": []
  },
  {
   "cell_type": "code",
   "execution_count": null,
   "metadata": {},
   "outputs": [],
   "source": []
  }
 ],
 "metadata": {
  "kernelspec": {
   "display_name": "Python 3",
   "language": "python",
   "name": "python3"
  },
  "language_info": {
   "codemirror_mode": {
    "name": "ipython",
    "version": 3
   },
   "file_extension": ".py",
   "mimetype": "text/x-python",
   "name": "python",
   "nbconvert_exporter": "python",
   "pygments_lexer": "ipython3",
   "version": "3.7.6"
  }
 },
 "nbformat": 4,
 "nbformat_minor": 4
}
